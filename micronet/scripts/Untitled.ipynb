{
 "cells": [
  {
   "cell_type": "code",
   "execution_count": 3,
   "metadata": {},
   "outputs": [
    {
     "name": "stdout",
     "output_type": "stream",
     "text": [
      "[46. 46. 14.] (0, 0, 0)\n",
      "(10, 4, 228, 228)\n"
     ]
    },
    {
     "data": {
      "text/html": [
       "<style>.container { width:100% !important; }</style><iframe src=\"http://localhost:8888/neuroglancer#!%7B%22layers%22:%7B%22dzyx%22:%7B%22source%22:%22python://http://localhost:8888/8c1a05421557f05ac40011f514a2a63ab8a84ebf%22,%22type%22:%22image%22,%22shader%22:%22void%20main()%20%7B%20emitRGB(vec3(toNormalized(getDataValue(0)),toNormalized(getDataValue(1)),toNormalized(getDataValue(2))));%20%7D%22%7D,%22gt_dzyx%22:%7B%22source%22:%22python://http://localhost:8888/6f611e30460f4685ad9574d4bd786f80e40ded31%22,%22type%22:%22image%22,%22shader%22:%22void%20main()%20%7B%20emitRGB(vec3(toNormalized(getDataValue(0)),toNormalized(getDataValue(1)),toNormalized(getDataValue(2))));%20%7D%22%7D,%22dzzyyxx%22:%7B%22source%22:%22python://http://localhost:8888/18e92c2705e128e2619cdd7254c007ab39059fb8%22,%22type%22:%22image%22,%22shader%22:%22void%20main()%20%7B%20emitRGB(vec3(toNormalized(getDataValue(0)),toNormalized(getDataValue(1)),toNormalized(getDataValue(2))));%20%7D%22%7D,%22gt_dzyzxyx%22:%7B%22source%22:%22python://http://localhost:8888/c0bacac3e62a17e44fe2a020c69a6c633e81683e%22,%22type%22:%22image%22,%22shader%22:%22void%20main()%20%7B%20emitRGB(vec3(toNormalized(getDataValue(0)),toNormalized(getDataValue(1)),toNormalized(getDataValue(2))));%20%7D%22%7D,%22dzyzxyx%22:%7B%22source%22:%22python://http://localhost:8888/55734c93d37c0a1f878bb52876965ac9e2427e27%22,%22type%22:%22image%22,%22shader%22:%22void%20main()%20%7B%20emitRGB(vec3(toNormalized(getDataValue(0)),toNormalized(getDataValue(1)),toNormalized(getDataValue(2))));%20%7D%22%7D,%22soft%22:%7B%22source%22:%22python://http://localhost:8888/9e0a73b7ec38f9ebcb51cad9125a0c8f5b018026%22,%22type%22:%22image%22%7D,%22gt%22:%7B%22source%22:%22python://http://localhost:8888/8f182a9d0bfa899fa3f98d03e7e7773ac3aa9200%22,%22type%22:%22segmentation%22%7D,%22gt_soft_mask%22:%7B%22source%22:%22python://http://localhost:8888/c521b7eecfbb70195799e3cb98eac21e2fb90e13%22,%22type%22:%22image%22%7D,%22raw%22:%7B%22source%22:%22python://http://localhost:8888/316ceb0447f675e93525c5c82ee2c9dde7ff26e5%22,%22type%22:%22image%22%7D%7D%7D\" width=\"100%\" height=\"1024px\"><\\iframe>"
      ],
      "text/plain": [
       "<IPython.core.display.HTML object>"
      ]
     },
     "execution_count": 3,
     "metadata": {},
     "output_type": "execute_result"
    }
   ],
   "source": [
    "import nyroglancer\n",
    "import h5py\n",
    "import numpy as np\n",
    "\n",
    "voxel_size = np.array([4.,4.,40.])\n",
    "\n",
    "#viewer = nyroglancer.Hdf5Viewer(\"/groups/funke/home/ecksteinn/Projects/other/lsd/tests/snapshots/00000000.hdf\", show_layer_numbers=True)\n",
    "viewer = nyroglancer.Viewer()\n",
    "f = h5py.File(\"/groups/funke/home/ecksteinn/Projects/microtubules/micronet/micronet/snapshots/run_7/batch_230501.hdf\", \"r\")\n",
    "data = np.array(f[\"lsds\"])\n",
    "gt = np.array(f[\"tracing\"])\n",
    "gt_lsds = np.array(f[\"gt_lsds\"])\n",
    "raw = np.array(f[\"raw\"])\n",
    "#lw_softmask = np.array(f[\"loss_weights_soft_mask\"])\n",
    "#lw_derivatives = np.array(f[\"loss_weights_derivatives\"])\n",
    "\n",
    "tracing_offset = tuple([off for off in f[\"tracing\"].attrs.items()[0][1][::-1]])\n",
    "raw_offset = tuple([off for off in f[\"raw\"].attrs.items()[0][1][::-1]])\n",
    "\n",
    "f.close()\n",
    "\n",
    "print tracing_offset/voxel_size, raw_offset\n",
    "\n",
    "tracing_offset /= voxel_size\n",
    "\n",
    "gt_soft_mask = gt_lsds[9,:,:,:]\n",
    "gt_dzyx = gt_lsds[0:3,:,:,:]\n",
    "gt_dzyzxyx = gt_lsds[6:9,:,:,:]\n",
    "\n",
    "dzyx = data[0:3,:,:,:]\n",
    "print np.shape(data)\n",
    "#dy = data[:,1,:,:,:]\n",
    "#dx = data[:,2,:,:,:]\n",
    "dzzyyxx = data[3:6,:,:,:]\n",
    "dzyzxyx = data[6:9,:,:,:]\n",
    "soft_mask = data[9,:,:,:]\n",
    "viewer.add(dzyx, name=\"dzyx\", shader=nyroglancer.shaders.rgb(), offset=tracing_offset)\n",
    "viewer.add(gt_dzyx, name=\"gt_dzyx\", shader=nyroglancer.shaders.rgb(), offset=tracing_offset)\n",
    "\n",
    "viewer.add(dzzyyxx, name=\"dzzyyxx\", shader=nyroglancer.shaders.rgb(), offset=tracing_offset)\n",
    "viewer.add(gt_dzyzxyx, name=\"gt_dzyzxyx\", shader=nyroglancer.shaders.rgb(), offset=tracing_offset)\n",
    "viewer.add(dzyzxyx, name=\"dzyzxyx\", shader=nyroglancer.shaders.rgb(), offset=tracing_offset)\n",
    "viewer.add(soft_mask, name=\"soft\", offset=tracing_offset)\n",
    "viewer.add(gt, name=\"gt\", offset=tracing_offset)\n",
    "#viewer.add(lw_softmask, name=\"lw_soft\", offset=tracing_offset)\n",
    "#viewer.add(lw_derivatives, name=\"lw_der\", offset=tracing_offset)\n",
    "viewer.add(gt_soft_mask, name=\"gt_soft_mask\", offset=tracing_offset)\n",
    "viewer.add(raw, name=\"raw\", offset=raw_offset)\n",
    "\n",
    "viewer.set_large()\n",
    "#viewer.set_hostname('localhost:8880')\n",
    "viewer.show()\n"
   ]
  },
  {
   "cell_type": "code",
   "execution_count": 5452,
   "metadata": {},
   "outputs": [
    {
     "name": "stdout",
     "output_type": "stream",
     "text": [
      "[38. 38. 10.] (0, 0, 0)\n"
     ]
    },
    {
     "ename": "IOError",
     "evalue": "Unable to open file (unable to open file: name = '/groups/funke/home/ecksteinn/Projects/microtubules/mtrack/mtrack/preprocessing/test_microcandidates.h5', errno = 2, error message = 'No such file or directory', flags = 0, o_flags = 0)",
     "output_type": "error",
     "traceback": [
      "\u001b[0;31m---------------------------------------------------------------------------\u001b[0m",
      "\u001b[0;31mIOError\u001b[0m                                   Traceback (most recent call last)",
      "\u001b[0;32m<ipython-input-5452-cbb6e2fbc2b1>\u001b[0m in \u001b[0;36m<module>\u001b[0;34m()\u001b[0m\n\u001b[1;32m     21\u001b[0m \u001b[0;32mprint\u001b[0m \u001b[0mtracing_offset\u001b[0m\u001b[0;34m/\u001b[0m\u001b[0mvoxel_size\u001b[0m\u001b[0;34m,\u001b[0m \u001b[0mraw_offset\u001b[0m\u001b[0;34m\u001b[0m\u001b[0m\n\u001b[1;32m     22\u001b[0m \u001b[0;34m\u001b[0m\u001b[0m\n\u001b[0;32m---> 23\u001b[0;31m \u001b[0mf\u001b[0m \u001b[0;34m=\u001b[0m \u001b[0mh5py\u001b[0m\u001b[0;34m.\u001b[0m\u001b[0mFile\u001b[0m\u001b[0;34m(\u001b[0m\u001b[0;34m\"/groups/funke/home/ecksteinn/Projects/microtubules/mtrack/mtrack/preprocessing/test_microcandidates.h5\"\u001b[0m\u001b[0;34m,\u001b[0m \u001b[0;34m\"r\"\u001b[0m\u001b[0;34m)\u001b[0m\u001b[0;34m\u001b[0m\u001b[0m\n\u001b[0m\u001b[1;32m     24\u001b[0m \u001b[0mcandidates\u001b[0m \u001b[0;34m=\u001b[0m \u001b[0mnp\u001b[0m\u001b[0;34m.\u001b[0m\u001b[0marray\u001b[0m\u001b[0;34m(\u001b[0m\u001b[0mf\u001b[0m\u001b[0;34m[\u001b[0m\u001b[0;34m\"candidates\"\u001b[0m\u001b[0;34m]\u001b[0m\u001b[0;34m)\u001b[0m\u001b[0;34m\u001b[0m\u001b[0m\n\u001b[1;32m     25\u001b[0m \u001b[0mori\u001b[0m \u001b[0;34m=\u001b[0m \u001b[0mnp\u001b[0m\u001b[0;34m.\u001b[0m\u001b[0marray\u001b[0m\u001b[0;34m(\u001b[0m\u001b[0mf\u001b[0m\u001b[0;34m[\u001b[0m\u001b[0;34m\"ori\"\u001b[0m\u001b[0;34m]\u001b[0m\u001b[0;34m)\u001b[0m\u001b[0;34m\u001b[0m\u001b[0m\n",
      "\u001b[0;32m/groups/funke/home/ecksteinn/.local/lib/python2.7/site-packages/h5py/_hl/files.pyc\u001b[0m in \u001b[0;36m__init__\u001b[0;34m(self, name, mode, driver, libver, userblock_size, swmr, **kwds)\u001b[0m\n\u001b[1;32m    310\u001b[0m             \u001b[0;32mwith\u001b[0m \u001b[0mphil\u001b[0m\u001b[0;34m:\u001b[0m\u001b[0;34m\u001b[0m\u001b[0m\n\u001b[1;32m    311\u001b[0m                 \u001b[0mfapl\u001b[0m \u001b[0;34m=\u001b[0m \u001b[0mmake_fapl\u001b[0m\u001b[0;34m(\u001b[0m\u001b[0mdriver\u001b[0m\u001b[0;34m,\u001b[0m \u001b[0mlibver\u001b[0m\u001b[0;34m,\u001b[0m \u001b[0;34m**\u001b[0m\u001b[0mkwds\u001b[0m\u001b[0;34m)\u001b[0m\u001b[0;34m\u001b[0m\u001b[0m\n\u001b[0;32m--> 312\u001b[0;31m                 \u001b[0mfid\u001b[0m \u001b[0;34m=\u001b[0m \u001b[0mmake_fid\u001b[0m\u001b[0;34m(\u001b[0m\u001b[0mname\u001b[0m\u001b[0;34m,\u001b[0m \u001b[0mmode\u001b[0m\u001b[0;34m,\u001b[0m \u001b[0muserblock_size\u001b[0m\u001b[0;34m,\u001b[0m \u001b[0mfapl\u001b[0m\u001b[0;34m,\u001b[0m \u001b[0mswmr\u001b[0m\u001b[0;34m=\u001b[0m\u001b[0mswmr\u001b[0m\u001b[0;34m)\u001b[0m\u001b[0;34m\u001b[0m\u001b[0m\n\u001b[0m\u001b[1;32m    313\u001b[0m \u001b[0;34m\u001b[0m\u001b[0m\n\u001b[1;32m    314\u001b[0m                 \u001b[0;32mif\u001b[0m \u001b[0mswmr_support\u001b[0m\u001b[0;34m:\u001b[0m\u001b[0;34m\u001b[0m\u001b[0m\n",
      "\u001b[0;32m/groups/funke/home/ecksteinn/.local/lib/python2.7/site-packages/h5py/_hl/files.pyc\u001b[0m in \u001b[0;36mmake_fid\u001b[0;34m(name, mode, userblock_size, fapl, fcpl, swmr)\u001b[0m\n\u001b[1;32m    140\u001b[0m         \u001b[0;32mif\u001b[0m \u001b[0mswmr\u001b[0m \u001b[0;32mand\u001b[0m \u001b[0mswmr_support\u001b[0m\u001b[0;34m:\u001b[0m\u001b[0;34m\u001b[0m\u001b[0m\n\u001b[1;32m    141\u001b[0m             \u001b[0mflags\u001b[0m \u001b[0;34m|=\u001b[0m \u001b[0mh5f\u001b[0m\u001b[0;34m.\u001b[0m\u001b[0mACC_SWMR_READ\u001b[0m\u001b[0;34m\u001b[0m\u001b[0m\n\u001b[0;32m--> 142\u001b[0;31m         \u001b[0mfid\u001b[0m \u001b[0;34m=\u001b[0m \u001b[0mh5f\u001b[0m\u001b[0;34m.\u001b[0m\u001b[0mopen\u001b[0m\u001b[0;34m(\u001b[0m\u001b[0mname\u001b[0m\u001b[0;34m,\u001b[0m \u001b[0mflags\u001b[0m\u001b[0;34m,\u001b[0m \u001b[0mfapl\u001b[0m\u001b[0;34m=\u001b[0m\u001b[0mfapl\u001b[0m\u001b[0;34m)\u001b[0m\u001b[0;34m\u001b[0m\u001b[0m\n\u001b[0m\u001b[1;32m    143\u001b[0m     \u001b[0;32melif\u001b[0m \u001b[0mmode\u001b[0m \u001b[0;34m==\u001b[0m \u001b[0;34m'r+'\u001b[0m\u001b[0;34m:\u001b[0m\u001b[0;34m\u001b[0m\u001b[0m\n\u001b[1;32m    144\u001b[0m         \u001b[0mfid\u001b[0m \u001b[0;34m=\u001b[0m \u001b[0mh5f\u001b[0m\u001b[0;34m.\u001b[0m\u001b[0mopen\u001b[0m\u001b[0;34m(\u001b[0m\u001b[0mname\u001b[0m\u001b[0;34m,\u001b[0m \u001b[0mh5f\u001b[0m\u001b[0;34m.\u001b[0m\u001b[0mACC_RDWR\u001b[0m\u001b[0;34m,\u001b[0m \u001b[0mfapl\u001b[0m\u001b[0;34m=\u001b[0m\u001b[0mfapl\u001b[0m\u001b[0;34m)\u001b[0m\u001b[0;34m\u001b[0m\u001b[0m\n",
      "\u001b[0;32mh5py/_objects.pyx\u001b[0m in \u001b[0;36mh5py._objects.with_phil.wrapper\u001b[0;34m()\u001b[0m\n",
      "\u001b[0;32mh5py/_objects.pyx\u001b[0m in \u001b[0;36mh5py._objects.with_phil.wrapper\u001b[0;34m()\u001b[0m\n",
      "\u001b[0;32mh5py/h5f.pyx\u001b[0m in \u001b[0;36mh5py.h5f.open\u001b[0;34m()\u001b[0m\n",
      "\u001b[0;31mIOError\u001b[0m: Unable to open file (unable to open file: name = '/groups/funke/home/ecksteinn/Projects/microtubules/mtrack/mtrack/preprocessing/test_microcandidates.h5', errno = 2, error message = 'No such file or directory', flags = 0, o_flags = 0)"
     ]
    }
   ],
   "source": [
    "import nyroglancer\n",
    "import h5py\n",
    "import numpy as np\n",
    "voxel_size = np.array([4.,4.,40.])\n",
    "\n",
    "#viewer = nyroglancer.Hdf5Viewer(\"/groups/funke/home/ecksteinn/Projects/other/lsd/tests/snapshots/00000000.hdf\", show_layer_numbers=True)\n",
    "viewer = nyroglancer.Viewer()\n",
    "f = h5py.File(\"/groups/funke/home/ecksteinn/Projects/microtubules/micronet/micronet/snapshots/run_5/batch_298501.hdf\", \"r\")\n",
    "data = np.array(f[\"lsds\"])\n",
    "gt = np.array(f[\"tracing\"])\n",
    "gt_lsds = np.array(f[\"gt_lsds\"])\n",
    "raw = np.array(f[\"raw\"])\n",
    "lw_softmask = np.array(f[\"loss_weights_soft_mask\"])\n",
    "lw_derivatives = np.array(f[\"loss_weights_derivatives\"])\n",
    "\n",
    "tracing_offset = tuple([off for off in f[\"tracing\"].attrs.items()[0][1][::-1]])\n",
    "raw_offset = tuple([off for off in f[\"raw\"].attrs.items()[0][1][::-1]])\n",
    "\n",
    "f.close()\n",
    "\n",
    "print tracing_offset/voxel_size, raw_offset\n",
    "\n",
    "f = h5py.File(\"/groups/funke/home/ecksteinn/Projects/microtubules/mtrack/mtrack/preprocessing/test_microcandidates.h5\", \"r\")\n",
    "candidates = np.array(f[\"candidates\"])\n",
    "ori = np.array(f[\"ori\"])\n",
    "ccs = np.array(f[\"ccs\"], dtype=np.uint16)\n",
    "cc_d1 = np.array(f[\"cc_d1\"], dtype=np.uint16)\n",
    "d1_masked = np.array(f[\"d1_masked\"])\n",
    "f.close()\n",
    "tracing_offset /= voxel_size\n",
    "\n",
    "gt_soft_mask = gt_lsds[9,:,:,:]\n",
    "gt_dzyx = gt_lsds[0:3,:,:,:]\n",
    "gt_dzyzxyx = gt_lsds[6:9,:,:,:]\n",
    "\n",
    "dzyx = data[0:3,:,:,:]\n",
    "print np.shape(data)\n",
    "#dy = data[:,1,:,:,:]\n",
    "#dx = data[:,2,:,:,:]\n",
    "dzzyyxx = data[3:6,:,:,:]\n",
    "dzyzxyx = data[6:9,:,:,:]\n",
    "soft_mask = data[9,:,:,:]\n",
    "viewer.add(dzyx, name=\"dzyx\", shader=nyroglancer.shaders.rgb(), offset=tracing_offset)\n",
    "viewer.add(gt_dzyx, name=\"gt_dzyx\", shader=nyroglancer.shaders.rgb(), offset=tracing_offset)\n",
    "viewer.add(candidates, name=\"candidates\", shader=nyroglancer.shaders.rgb(), offset=tracing_offset)\n",
    "viewer.add(ori, name=\"ori\", shader=nyroglancer.shaders.rgb(), offset=tracing_offset)\n",
    "viewer.add(d1_masked, name=\"d1_masked\", shader=nyroglancer.shaders.rgb(), offset=tracing_offset)\n",
    "viewer.add(ccs, name=\"ccs\", offset=tracing_offset)\n",
    "viewer.add(cc_d1, name=\"cc_d1\", offset=tracing_offset)\n",
    "#viewer.add(dzzyyxx, name=\"dzzyyxx\", shader=nyroglancer.shaders.rgb(), offset=tracing_offset)\n",
    "#viewer.add(gt_dzyzxyx, name=\"gt_dzyzxyx\", shader=nyroglancer.shaders.rgb(), offset=tracing_offset)\n",
    "#viewer.add(dzyzxyx, name=\"dzyzxyx\", shader=nyroglancer.shaders.rgb(), offset=tracing_offset)\n",
    "viewer.add(soft_mask, name=\"soft\", offset=tracing_offset)\n",
    "viewer.add(gt, name=\"gt\", offset=tracing_offset)\n",
    "#viewer.add(lw_softmask, name=\"lw_soft\", offset=tracing_offset)\n",
    "#viewer.add(lw_derivatives, name=\"lw_der\", offset=tracing_offset)\n",
    "viewer.add(gt_soft_mask, name=\"gt_soft_mask\", offset=tracing_offset)\n",
    "viewer.add(raw, name=\"raw\", offset=raw_offset)\n",
    "\n",
    "viewer.set_large()\n",
    "#viewer.set_hostname('localhost:8880')\n",
    "viewer.show()"
   ]
  },
  {
   "cell_type": "code",
   "execution_count": 1,
   "metadata": {},
   "outputs": [
    {
     "name": "stdout",
     "output_type": "stream",
     "text": [
      "(0, 0, 0)\n"
     ]
    },
    {
     "data": {
      "text/html": [
       "<style>.container { width:100% !important; }</style><iframe src=\"http://localhost:8888/neuroglancer#!%7B%22layers%22:%7B%22dzyx%22:%7B%22source%22:%22python://http://localhost:8888/ec66c090a62b6055101d5409683aa31099b886b9%22,%22type%22:%22image%22,%22shader%22:%22void%20main()%20%7B%20emitRGB(vec3(toNormalized(getDataValue(0)),toNormalized(getDataValue(1)),toNormalized(getDataValue(2))));%20%7D%22%7D,%22dzzyyxx%22:%7B%22source%22:%22python://http://localhost:8888/b68a71cbbd4a473f719bee323897ec7b5d3cbb25%22,%22type%22:%22image%22,%22shader%22:%22void%20main()%20%7B%20emitRGB(vec3(toNormalized(getDataValue(0)),toNormalized(getDataValue(1)),toNormalized(getDataValue(2))));%20%7D%22%7D,%22soft%22:%7B%22source%22:%22python://http://localhost:8888/8451bf78a047e8a14c4f52b29447d0da95ff1f9f%22,%22type%22:%22image%22%7D,%22raw%22:%7B%22source%22:%22python://http://localhost:8888/0515f1359add9f0f6175557041d5612d1dc322ff%22,%22type%22:%22image%22%7D%7D%7D\" width=\"100%\" height=\"1024px\"><\\iframe>"
      ],
      "text/plain": [
       "<IPython.core.display.HTML object>"
      ]
     },
     "execution_count": 1,
     "metadata": {},
     "output_type": "execute_result"
    }
   ],
   "source": [
    "# View lsd prediction\n",
    "import h5py\n",
    "import numpy as np\n",
    "import nyroglancer\n",
    "\n",
    "viewer = nyroglancer.Viewer()\n",
    "\n",
    "voxel_size = np.array([4.,4.,40.])\n",
    "run = 7\n",
    "prediction = 3\n",
    "\n",
    "f = h5py.File(\"/groups/funke/home/ecksteinn/Projects/microtubules/micronet/micronet/predictions/run_{}/prediction{}_cropped.h5\".format(run, prediction), \"r\")\n",
    "data = np.array(f[\"prediction\"])\n",
    "data_offset = tuple([off for off in f[\"prediction\"].attrs.items()[0][1][::-1]])/voxel_size\n",
    "data_offset = (0,0,0)\n",
    "f.close()\n",
    "print data_offset\n",
    "raw_file = \"/groups/funke/home/ecksteinn/data/mt_data/cremi/data/MTTraining_CremiTest/sample_B+_20160601.hdf5\"\n",
    "input_dataset = \"/volumes/raw\"\n",
    "\n",
    "f_raw = h5py.File(raw_file, \"r\")\n",
    "raw = np.array(f_raw[input_dataset])\n",
    "f.close()\n",
    "\n",
    "dzyx = data[0:3,:,:,:]\n",
    "dzzyyxx = data[3:6,:,:,:]\n",
    "dzyzxyx = data[6:9,:,:,:]\n",
    "soft_mask = data[9,:,:,:]\n",
    "viewer.add(dzyx, name=\"dzyx\", shader=nyroglancer.shaders.rgb(), offset=data_offset)\n",
    "viewer.add(dzzyyxx, name=\"dzzyyxx\", shader=nyroglancer.shaders.rgb(), offset=data_offset)\n",
    "viewer.add(soft_mask, name=\"soft\", offset=data_offset)\n",
    "viewer.add(raw, name=\"raw\")\n",
    "\n",
    "viewer.set_large()\n",
    "#viewer.set_hostname('localhost:8880')\n",
    "viewer.show()"
   ]
  },
  {
   "cell_type": "code",
   "execution_count": 288,
   "metadata": {},
   "outputs": [
    {
     "name": "stdout",
     "output_type": "stream",
     "text": [
      "(0, 0, 0)\n"
     ]
    },
    {
     "data": {
      "text/html": [
       "<style>.container { width:100% !important; }</style><iframe src=\"http://localhost:8888/neuroglancer#!%7B%22layers%22:%7B%22soft%22:%7B%22source%22:%22python://http://localhost:8888/05733ce8ebfa831caa44a56fbb25d9bbfccfc9fa%22,%22type%22:%22image%22%7D,%22raw%22:%7B%22source%22:%22python://http://localhost:8888/971f4a12d3df6f87287d7f8cd573d9f790d28f75%22,%22type%22:%22image%22%7D%7D%7D\" width=\"100%\" height=\"1024px\"><\\iframe>"
      ],
      "text/plain": [
       "<IPython.core.display.HTML object>"
      ]
     },
     "execution_count": 288,
     "metadata": {},
     "output_type": "execute_result"
    }
   ],
   "source": [
    "# View softmask prediction\n",
    "import h5py\n",
    "import numpy as np\n",
    "import nyroglancer\n",
    "\n",
    "viewer = nyroglancer.Viewer()\n",
    "\n",
    "voxel_size = np.array([4.,4.,40.])\n",
    "run = 10\n",
    "prediction = 0\n",
    "\n",
    "f = h5py.File(\"/groups/funke/home/ecksteinn/Projects/microtubules/micronet/micronet/predictions/run_{}/softmask{}_cropped.h5\".format(run, prediction), \"r\")\n",
    "softmask = np.array(f[\"exported_data\"])\n",
    "softmask_offset = tuple([off for off in f[\"exported_data\"].attrs.items()[0][1][::-1]])/voxel_size\n",
    "softmask_offset = (0,0,0)\n",
    "f.close()\n",
    "print softmask_offset\n",
    "\n",
    "raw_file = \"/groups/funke/home/ecksteinn/data/mt_data/cremi/data/MTTraining_CremiTest/sample_B+_20160601.hdf5\"\n",
    "input_dataset = \"/volumes/raw\"\n",
    "\n",
    "f_raw = h5py.File(raw_file, \"r\")\n",
    "raw = np.array(f_raw[input_dataset])\n",
    "f.close()\n",
    "\n",
    "viewer.add(softmask, name=\"soft\", offset=softmask_offset)\n",
    "viewer.add(raw, name=\"raw\")\n",
    "\n",
    "viewer.set_large()\n",
    "#viewer.set_hostname('localhost:8880')\n",
    "viewer.show()"
   ]
  },
  {
   "cell_type": "code",
   "execution_count": 1746,
   "metadata": {},
   "outputs": [
    {
     "data": {
      "text/html": [
       "<style>.container { width:100% !important; }</style><iframe src=\"http://localhost:8888/neuroglancer#!%7B%22layers%22:%7B%22soft_(10,%200)%22:%7B%22source%22:%22python://http://localhost:8888/48890a433e349d7a9b778c97d27a112a2d3b8775%22,%22type%22:%22image%22%7D,%22soft_(7,%203)%22:%7B%22source%22:%22python://http://localhost:8888/e88de60fe1feedf49cc1c71e2f4509e3d53c9678%22,%22type%22:%22image%22%7D,%22raw%22:%7B%22source%22:%22python://http://localhost:8888/c824e246753422c99bd711f06ddc0c116db8e5a0%22,%22type%22:%22image%22%7D%7D%7D\" width=\"100%\" height=\"1024px\"><\\iframe>"
      ],
      "text/plain": [
       "<IPython.core.display.HTML object>"
      ]
     },
     "execution_count": 1746,
     "metadata": {},
     "output_type": "execute_result"
    }
   ],
   "source": [
    "# View softmask prediction\n",
    "import h5py\n",
    "import numpy as np\n",
    "import nyroglancer\n",
    "\n",
    "viewer = nyroglancer.Viewer()\n",
    "\n",
    "voxel_size = np.array([4.,4.,40.])\n",
    "runs = [(1, 0), (7, 3)]\n",
    "\n",
    "softmasks = []\n",
    "for run in runs:\n",
    "    f = h5py.File(\"/groups/funke/home/ecksteinn/Projects/microtubules/micronet/micronet/predictions/run_{}/softmask{}_cropped.h5\".format(run[0], run[1]), \"r\")\n",
    "    softmasks.append(np.array(f[\"exported_data\"]))\n",
    "    f.close()\n",
    "\n",
    "softmask_offset = (0,0,0)\n",
    "raw_file = \"/groups/funke/home/ecksteinn/data/mt_data/cremi/data/MTTraining_CremiTest/sample_B+_20160601.hdf5\"\n",
    "input_dataset = \"/volumes/raw\"\n",
    "\n",
    "f_raw = h5py.File(raw_file, \"r\")\n",
    "raw = np.array(f_raw[input_dataset])\n",
    "f_raw.close()\n",
    "\n",
    "for softmask, run in zip(softmasks, runs):\n",
    "    viewer.add(softmask, name=\"soft_{}\".format(run), offset=softmask_offset)\n",
    "    \n",
    "viewer.add(raw, name=\"raw\")\n",
    "\n",
    "viewer.set_large()\n",
    "#viewer.set_hostname('localhost:8880')\n",
    "viewer.show()"
   ]
  },
  {
   "cell_type": "code",
   "execution_count": 4119,
   "metadata": {},
   "outputs": [
    {
     "data": {
      "text/html": [
       "<iframe src=\"http://localhost:8888/neuroglancer#!%7B%22layers%22:%7B%22gs2.0_ps0.5%22:%7B%22source%22:%22python://http://localhost:8888/afac84bf8f3116fdc3645b995683efdb3170a22a%22,%22type%22:%22image%22%7D,%22gs2.0_ps0.4%22:%7B%22source%22:%22python://http://localhost:8888/c969ac5d750d2eee947c03d130c6800478f9ff9f%22,%22type%22:%22image%22%7D,%22gs3.0_ps0.5%22:%7B%22source%22:%22python://http://localhost:8888/6c1e081e7b301d0110cf2a34159a44579d4f5fab%22,%22type%22:%22image%22%7D,%22gs3.0_ps0.4%22:%7B%22source%22:%22python://http://localhost:8888/2a921c2dfc57dc7be7750dea8a796447804c490b%22,%22type%22:%22image%22%7D,%22raw%22:%7B%22source%22:%22python://http://localhost:8888/1ea919f6cd6acc64848531a84ff290f248b65827%22,%22type%22:%22image%22%7D%7D%7D\" width=\"100%\" height=\"1024px\"><\\iframe>"
      ],
      "text/plain": [
       "<IPython.core.display.HTML object>"
      ]
     },
     "execution_count": 4119,
     "metadata": {},
     "output_type": "execute_result"
    }
   ],
   "source": [
    "# Compare hardmasks:\n",
    "import h5py\n",
    "import numpy as np\n",
    "import nyroglancer\n",
    "\n",
    "viewer = nyroglancer.Viewer()\n",
    "voxel_size = np.array([4.,4.,40.])\n",
    "\n",
    "hm_base_dir = \"/groups/funke/home/ecksteinn/Projects/microtubules/cremi/experiments/check_candidates/rfc\"\n",
    "hm_run = \"/b+_hm_gs{}_ps{}.h5\"\n",
    "\n",
    "gaussian_sigma = [2.0, 3.0]\n",
    "point_threshold = [0.5, 0.4]\n",
    "\n",
    "\n",
    "softmask_offset = (0,0,0)\n",
    "raw_file = \"/groups/funke/home/ecksteinn/data/mt_data/cremi/data/MTTraining_CremiTest/sample_B+_20160601.hdf5\"\n",
    "input_dataset = \"/volumes/raw\"\n",
    "\n",
    "f_raw = h5py.File(raw_file, \"r\")\n",
    "raw = np.array(f_raw[input_dataset])\n",
    "f_raw.close()\n",
    "\n",
    "for gs in gaussian_sigma:\n",
    "    for ps in point_threshold:\n",
    "        hm_path = hm_base_dir + hm_run.format(gs, ps)\n",
    "        f = h5py.File(hm_path, \"r\")\n",
    "        hm = np.array(f[\"hard_mask\"], dtype=np.float32)\n",
    "        f.close()\n",
    "        viewer.add(hm, name=\"gs{}_ps{}\".format(gs,ps), offset=softmask_offset)\n",
    "    \n",
    "viewer.add(raw, name=\"raw\")\n",
    "viewer.show()\n",
    "\n"
   ]
  },
  {
   "cell_type": "code",
   "execution_count": 9044,
   "metadata": {
    "scrolled": false
   },
   "outputs": [
    {
     "data": {
      "text/html": [
       "<style>.container { width:100% !important; }</style><iframe src=\"http://localhost:8888/neuroglancer#!%7B%22layers%22:%7B%22soft_7%22:%7B%22source%22:%22python://http://localhost:8888/1954d673bcf80fc5afb4e9ba791aa79d12491930%22,%22type%22:%22image%22%7D,%22soft_10%22:%7B%22source%22:%22python://http://localhost:8888/95cc83653aae0cc08662365a8d05cd4d8babaf86%22,%22type%22:%22image%22%7D,%22rfc_perp%22:%7B%22source%22:%22python://http://localhost:8888/f7d951804be876d50473baa308e7cad031d26aec%22,%22type%22:%22image%22%7D,%22rfc_par%22:%7B%22source%22:%22python://http://localhost:8888/b71598c95c359c3688fcda7035424f058ea24e41%22,%22type%22:%22image%22%7D,%22raw%22:%7B%22source%22:%22python://http://localhost:8888/18713ba2d3d62c8eacc35ab4a5cc59ef9e76786d%22,%22type%22:%22image%22%7D,%22gt%22:%7B%22source%22:%22python://http://localhost:8888/219edcf6ab9c3fdd30d3fb9d467d3af395ec918e%22,%22type%22:%22segmentation%22%7D%7D%7D\" width=\"100%\" height=\"1024px\"><\\iframe>"
      ],
      "text/plain": [
       "<IPython.core.display.HTML object>"
      ]
     },
     "execution_count": 9044,
     "metadata": {},
     "output_type": "execute_result"
    }
   ],
   "source": [
    "# View softmask prediction test set\n",
    "import h5py\n",
    "import numpy as np\n",
    "import nyroglancer\n",
    "\n",
    "viewer = nyroglancer.Viewer()\n",
    "\n",
    "voxel_size = np.array([4.,4.,40.])\n",
    "run = (7, \"C0\")\n",
    "\n",
    "f = h5py.File(\"/groups/funke/home/ecksteinn/Projects/microtubules/micronet/micronet/predictions/run_{}/softmask_{}.h5\".format(run[0], run[1]), \"r\")\n",
    "softmask_7 = np.array(f[\"exported_data\"])\n",
    "softmask_offset = tuple([off for off in f[\"exported_data\"].attrs.items()[0][1][::-1]])/voxel_size\n",
    "f.close()\n",
    "\n",
    "run = (10, \"C0\")\n",
    "\n",
    "f = h5py.File(\"/groups/funke/home/ecksteinn/Projects/microtubules/micronet/micronet/predictions/run_{}/softmask_{}.h5\".format(run[0], run[1]), \"r\")\n",
    "softmask_10 = np.array(f[\"exported_data\"])\n",
    "softmask_offset = tuple([off for off in f[\"exported_data\"].attrs.items()[0][1][::-1]])/voxel_size\n",
    "f.close()\n",
    "\n",
    "f = h5py.File(\"/groups/funke/home/ecksteinn/Projects/microtubules/cremi/experiments/test_runs/rfc/prob_maps_c/par/stack/sample_C_padded_20160501_corrected.h5\", \"r\")\n",
    "softmask_rfc_par = np.array(f[\"exported_data\"])\n",
    "softmask_rfc_offset= tuple([0,0,0])\n",
    "f.close()\n",
    "\n",
    "f = h5py.File(\"/groups/funke/home/ecksteinn/Projects/microtubules/cremi/experiments/test_runs/rfc/prob_maps_c/perp/stack/sample_C_padded_20160501_corrected.h5\", \"r\")\n",
    "softmask_rfc_perp = np.array(f[\"exported_data\"])\n",
    "softmask_rfc_offset= tuple([0,0,0])\n",
    "f.close()\n",
    "\n",
    "f = h5py.File(\"/groups/funke/home/ecksteinn/Projects/microtubules/micronet/micronet/data/c_test_master.h5\", \"r\")\n",
    "gt = np.array(f[\"tracing\"])\n",
    "gt_offset = [1000, 1000, 10]\n",
    "f.close()\n",
    "\n",
    "raw_file = \"/groups/funke/home/ecksteinn/data/mt_data/cremi/data/MTTest_CremiTraining_Unaligned/sample_C_padded_20160501.hdf\"\n",
    "input_dataset = \"/volumes/raw\"\n",
    "\n",
    "f_raw = h5py.File(raw_file, \"r\")\n",
    "raw = np.array(f_raw[input_dataset])\n",
    "f_raw.close()\n",
    "\n",
    "viewer.add(softmask_7, name=\"soft_7\", offset=softmask_offset)\n",
    "viewer.add(softmask_10, name=\"soft_10\", offset=softmask_offset)\n",
    "viewer.add(softmask_rfc_perp, name=\"rfc_perp\", offset=softmask_rfc_offset)\n",
    "viewer.add(softmask_rfc_par, name=\"rfc_par\", offset=softmask_rfc_offset)\n",
    "viewer.add(raw, name=\"raw\")\n",
    "viewer.add(gt, name=\"gt\", offset=gt_offset)\n",
    "\n",
    "viewer.set_large()\n",
    "#viewer.set_hostname('localhost:8880')\n",
    "viewer.show()"
   ]
  },
  {
   "cell_type": "markdown",
   "metadata": {},
   "source": [
    "##### "
   ]
  }
 ],
 "metadata": {
  "kernelspec": {
   "display_name": "Python 2",
   "language": "python",
   "name": "python2"
  },
  "language_info": {
   "codemirror_mode": {
    "name": "ipython",
    "version": 2
   },
   "file_extension": ".py",
   "mimetype": "text/x-python",
   "name": "python",
   "nbconvert_exporter": "python",
   "pygments_lexer": "ipython2",
   "version": "2.7.15"
  }
 },
 "nbformat": 4,
 "nbformat_minor": 2
}
